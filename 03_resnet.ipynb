{
 "cells": [
  {
   "cell_type": "markdown",
   "metadata": {},
   "source": [
    "# Residual Network (ResNet)\n",
    "\n",
    "---\n",
    "## 目的\n",
    "ResNetの構造 (スキップ構造) の仕組みを理解する．\n",
    "ResNetを用いてCIFAR10データセットに対する物体認識を行う．\n",
    "\n",
    "## Residual Network (ResNet)\n",
    "ResNetの説明．"
    "## モジュールのインポート\n",
   ]
  },
  {
   "cell_type": "code",
   "execution_count": 124,
   "metadata": {},
   "outputs": [],
   "source": [
    "import torch\n",
    "import torchvision\n",
    "import torchvision.transforms as transforms\n",
   ]
  },
  {
   "cell_type": "markdown",
   "metadata": {},
   "source": [
    "## 目的関数の設定・描画\n",
    "はじめに，目的関数を設定，描画します．\n",
    "\n",
    "今回は\n",
    "$$z(x, y) = 3x^2 + 5y^2 -6xy$$\n",
    "という関数を目的関数として設定し，任意の初期値$x_0, y_0$から確率的勾配降下法で$z(x, y)$が最小値となるような最適な値$\\hat{x}, \\hat{y}$を求めます．\n",
    "\n",
    "まず，描画するグラフの範囲を指定します．\n",
    "\n",
    "その後，指定した範囲で目的関数の局面を描画します．"
   ]
  },
  {
   "cell_type": "code",
   "execution_count": null,
   "metadata": {},
   "outputs": [],
   "source": []
  },
 ],
 
 "metadata": {
  "kernelspec": {
   "display_name": "Python 3",
   "language": "python",
   "name": "python3"
  },
  "language_info": {
   "codemirror_mode": {
    "name": "ipython",
    "version": 3
  },
   "file_extension": ".py",
   "mimetype": "text/x-python",
   "name": "python",
   "nbconvert_exporter": "python",
   "pygments_lexer": "ipython3",
   "version": "3.5.2"
  },
 "nbformat": 4,
 "nbformat_minor": 4
}
